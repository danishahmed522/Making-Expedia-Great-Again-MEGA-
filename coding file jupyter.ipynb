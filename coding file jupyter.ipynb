{
 "cells": [
  {
   "cell_type": "raw",
   "id": "fdbf1a8e",
   "metadata": {},
   "source": [
    "---\n",
    "title: \"Making Expedia Great Again (MEGA)\"\n",
    "author: \"Ishan Malhotra - 1007658553, Aarnav Chaudasama - 1007756395, Arnav Dey - 1008576140, Danish Ahmed Bombal - 1007733008 (GROUP 50)\"\n",
    "subtitle: \"Investigating how search filters affect the decisions of a rational consumer\"\n",
    "date: March 31, 2022\n",
    "output: \n",
    "  beamer_presentation:\n",
    "    theme: \"AnnArbor\"\n",
    "    colortheme: \"dolphin\"\n",
    "    fonttheme: \"structurebold\"\n",
    "    slide_level: 2\n",
    "classoption: \"aspectratio=169\"\n",
    "fontsize: 11pt\n",
    "urlcolor: blue\n",
    "---"
   ]
  },
  {
   "cell_type": "markdown",
   "id": "bf2bf740",
   "metadata": {
    "lines_to_next_cell": 0
   },
   "source": []
  },
  {
   "cell_type": "code",
   "execution_count": null,
   "id": "76ed0995",
   "metadata": {
    "lines_to_next_cell": 2,
    "message": false,
    "tags": [
     "remove_input"
    ],
    "warning": false
   },
   "outputs": [],
   "source": [
    "# echo=FALSE will stop the code chunk from appearing in the knit document\n",
    "# warning=FALSE and message=FALSE will stop R messages from appearing in the knit document\n",
    "library(tidyverse)\n",
    "install.packages(\"gridExtra\", repos = \"http://cran.rstudio.com/\")              \n",
    "library(\"gridExtra\")\n",
    "install.packages(\"rpart\",repos=\"http://cran.rstudio.com/\")\n",
    "library(rpart)\n",
    "install.packages(\"partykit\", repos = \"http://cran.rstudio.com/\")\n",
    "library(\"partykit\")\n",
    "\n",
    "# here is the data for this project\n",
    "expedia_data <- read_csv(\"ExpediaSearchData.csv\")\n",
    "\n",
    "# see the Project Overview page for more information: \n",
    "# https://q.utoronto.ca/courses/235890/pages/project-overview"
   ]
  },
  {
   "cell_type": "markdown",
   "id": "5dcc7f2a",
   "metadata": {},
   "source": [
    "##  Introduction \n",
    "\n",
    "Through this presentation, we intent to peruse how consumer decision-making is influenced with changes in a multitude of filters while searching for different accommodations. \n",
    "\n",
    "This in-depth investigation necessitated us to utilize variables such as the number of adults (*adult_count*), children (*child_count*), and infants (*infant_count*). Additionally, we used star ratings(*star_rating1*), number of reviews (*review_count1*), price bucket (*price_bucket1*) and whether a listing is discounted or not (*is_drr1*).\n",
    "\n",
    "What are the average number of reviews generated for discounted and non-discounted listings? How well does star rating and review count predict the price of a listing?  What is the majority consumer base of Expedia? These are some of the questions we hope to answer.\n",
    "\n",
    "By the virtue of this detailed research study, Expedia will be able to comprehend how they can devise changes to the platform, make further improvements in Search Engine Optimization (SEO) and increase the overall appeal of their web page.\n"
   ]
  },
  {
   "cell_type": "markdown",
   "id": "e3a3f142",
   "metadata": {},
   "source": [
    "## Data summary \n",
    "\n",
    "### Data Wrangling:\n",
    "\n",
    "-  **Q1**:\n",
    "   + For Q1 we created two new variables: the first variable, *'total_no_of_kids'*  is the sum of the *'infant_count'* and *'child_count'*, which indicates the total number of juveniles the individual is traveling with. The second variable created is *'traveling_with_kids'*, which indicates whether an individual is traveling with juveniles or not based on the *'total_no_of_kids'* count. \n",
    "-  **Q2**: \n",
    "   + For this question, a new variable *'price_level'* was created taking price bucket 1 into consideration. If the price bucket was equal to 3 and below, then it is considered a low-price level. If the price bucket was equal to 4 and above, it is a high price level.\n",
    "-  **Q3**:\n",
    "   + For Q3, we mutated a new variable named *'is_drr1_'* where we classified the listings whether they are at a discounted price or not and converted them in a more functionable format. \\textcolor{red}{[1 ~ ‘Discounted’, 0 ~ ‘Not discounted’]}\n",
    "\n",
    "---\n",
    "\n",
    "## Question 1: Is the proportion of travelers who are seeking an accommodation with no kids accompanying them 90%?"
   ]
  },
  {
   "cell_type": "markdown",
   "id": "e6ef4cb2",
   "metadata": {},
   "source": [
    "### Objectives\n",
    "\\begin{columns}\n",
    "\\column{0.5\\textwidth}"
   ]
  },
  {
   "cell_type": "markdown",
   "id": "282810b8",
   "metadata": {},
   "source": [
    "1. To identify, define and establish the majority customer base of Expedia."
   ]
  },
  {
   "cell_type": "markdown",
   "id": "fa0f3db2",
   "metadata": {},
   "source": [
    "\\column{0.5\\textwidth}\n",
    "\\centering\n",
    "\\includegraphics[width = 7cm, height = 4cm]{images/happy-large-family-traveling.jpg}\n",
    "\\end{columns}\n"
   ]
  },
  {
   "cell_type": "markdown",
   "id": "31ca1b31",
   "metadata": {},
   "source": [
    "## (i) Visualization"
   ]
  },
  {
   "cell_type": "code",
   "execution_count": null,
   "id": "1ed7f5bb",
   "metadata": {
    "fig.align": "center",
    "fig.height": 2.25,
    "fig.width": 4,
    "lines_to_next_cell": 2,
    "tags": [
     "remove_input"
    ]
   },
   "outputs": [],
   "source": [
    "expedia_data <- expedia_data %>% mutate((total_no_of_kids = child_count+ infant_count), traveling_with_kids = case_when(total_no_of_kids >= 1~ \"Yes\", total_no_of_kids < 1 ~\"No\" )) \n",
    "\n",
    "set.seed(395)\n",
    "n_observations <- 1000\n",
    "repetions<- 1500\n",
    "simulated_stats <- rep(NA, repetions)\n",
    "\n",
    "for(i in 1:repetions){\n",
    "result<-c(\"withkids\",\"withoutkids\")\n",
    "flips<-sample(result, size = n_observations, prob = c(0.1,0.9), replace = TRUE) \n",
    "sim_1 <- sum(flips == \"withoutkids\")/n_observations \n",
    "simulated_stats[i]<-sim_1 ; }\n",
    "\n",
    "sim <- tibble(p_withoutkids = simulated_stats)\n",
    "graph244 <-sim %>% ggplot(aes(x=p_withoutkids))+geom_histogram(binwidth = 0.02,color= \"black\", fill=\"grey\")\n",
    "\n",
    "test_stat <- 0.884\n",
    "ggplot(data = expedia_data, aes(x= traveling_with_kids, color= traveling_with_kids, fill = traveling_with_kids))+\n",
    "geom_bar()+\n",
    "theme_minimal()+\n",
    "geom_text(aes(label = ..count..), stat = \"count\", vjust = 1.5, colour = \"white\")+ labs(x=\"traveling with kids\", title = \"Barplot representing the number of searches \\n with juveniles/kids (n=1000)\") +theme(plot.title = element_text(size = 8))"
   ]
  },
  {
   "cell_type": "markdown",
   "id": "a6cdee3f",
   "metadata": {},
   "source": [
    "## (ii) Statistical Methods\n",
    "### **Null Hypothesis** \n",
    "\n",
    "-  Proportion of travelers on Expedia that are traveling without juveniles is equal to 90% \n",
    "\n",
    "\\textcolor{red}{$H_{0}: p_{traveling\\ without\\  children }  = 0.9$}\\\n",
    "\n",
    "### **Alternative Hypothesis**\n",
    "\n",
    "-  Proportion of travelers on Expedia that are traveling without juveniles is not equal to 90% \n",
    "\n",
    "\\textcolor{red}{$H_{1}: p_{traveling\\ without\\  children } \\neq0.9$}\\"
   ]
  },
  {
   "cell_type": "markdown",
   "id": "125a0ca6",
   "metadata": {},
   "source": [
    "## (iii) Results and Interpretation\n",
    "\n",
    "\\begin{columns}\n",
    "\\column{0.5\\textwidth}\n",
    "\n",
    "Since the significance level $\\alpha$ (\\textcolor{brown}{which determines the cut-off for how unusual/etreme the data is})\\ is 0.05, and since the enumerated p-value is 0.09866667, we know that there is weak evidence against the null hypothesis i.e., we accept the null hypothesis.\n"
   ]
  },
  {
   "cell_type": "markdown",
   "id": "52ca2732",
   "metadata": {
    "lines_to_next_cell": 0
   },
   "source": [
    "1.  90 percent of customers are questing for a property without children, which implies that it has a clear target customer it serves. Expedia can use this data to efficiently allocate their promotional budget in order to further increase their sales.\\\n",
    "\n",
    "\\column{0.5\\textwidth}\n",
    "\\centering"
   ]
  },
  {
   "cell_type": "code",
   "execution_count": null,
   "id": "bfae06c0",
   "metadata": {
    "fig.align": "center",
    "fig.height": 1.5,
    "fig.width": 2.5,
    "lines_to_next_cell": 0,
    "message": false,
    "tags": [
     "remove_input"
    ],
    "warning": false
   },
   "outputs": [],
   "source": [
    "sim %>% ggplot(aes(x=p_withoutkids))+geom_histogram(binwidth = 0.005,color=\"black\", fill=\"grey\")+labs(title = \"Sampling Distribution/Simulated Proportions \\n of searches without kids (n = 1000)\")+theme(plot.title = element_text(size = 7)) +geom_vline(xintercept = 0.9 -abs(0.9-test_stat),color=\"red\")+ geom_vline(xintercept = 0.9+abs(0.9-test_stat), color=\"blue\")\n",
    "a1<- 0.9 -abs(0.9-test_stat)\n",
    "a2<-0.9+abs(0.9-test_stat)\n",
    "pvalue<-sim %>%\n",
    "filter(p_withoutkids>= a2 | p_withoutkids<= a1) %>% summarise(p_value= n()/repetions)\n",
    "percentage =c( 0.884, 0.116)\n"
   ]
  },
  {
   "cell_type": "markdown",
   "id": "71daa92d",
   "metadata": {},
   "source": [
    "P-value = 0.09866667\t\n",
    "\\end{columns}"
   ]
  },
  {
   "cell_type": "markdown",
   "id": "f75ecd81",
   "metadata": {},
   "source": [
    "## Question 2: How does review count and star rating affect the price level for the first listing?"
   ]
  },
  {
   "cell_type": "markdown",
   "id": "28062e81",
   "metadata": {},
   "source": [
    "### Objectives\n",
    "\n",
    "\\begin{columns}\n",
    "\\column{0.5\\textwidth}\n",
    "\n",
    "1. To increase the number of purchases by providing information about how review count and star rating affect the price level for the first listing\n",
    "\n",
    "\\column{0.5\\textwidth}\n",
    "\\centering\n",
    "\\includegraphics[width = 3cm, height = 2.5cm]{images/download-5.jpeg}\n",
    "\\includegraphics[width = 6cm, height = 2.5cm]{images/Gear-Feature-Art-Amazon-Ratings-1127163442.jpeg}"
   ]
  },
  {
   "cell_type": "markdown",
   "id": "334fe724",
   "metadata": {},
   "source": [
    "\\end{columns}"
   ]
  },
  {
   "cell_type": "markdown",
   "id": "c2439e59",
   "metadata": {
    "lines_to_next_cell": 0
   },
   "source": [
    "## (i) Visualization"
   ]
  },
  {
   "cell_type": "code",
   "execution_count": null,
   "id": "3bf45541",
   "metadata": {
    "fig.align": "center",
    "fig.height": 2.96,
    "fig.width": 6.2,
    "message": false,
    "tags": [
     "remove_input"
    ],
    "warning": false
   },
   "outputs": [],
   "source": [
    "\n",
    "expedia_data <- expedia_data %>% filter(!is.na(price_bucket1)) %>% mutate(price_level = case_when(price_bucket1 <= 3 ~ 'low', price_bucket1 > 3 ~ 'high')) \n",
    "\n",
    "set.seed(140)\n",
    "\n",
    "n <- nrow(expedia_data)\n",
    "train_indices <- sample(1:n, size=(0.8*n))\n",
    "\n",
    "expedia_data <- expedia_data %>% rowid_to_column()\n",
    "train_data <- expedia_data %>% filter(rowid %in% train_indices)\n",
    "test_data <- expedia_data %>% filter(!(rowid %in% train_indices))\n",
    "\n",
    "tree1 <- rpart(price_level ~ review_count1 + star_rating1, data = train_data)\n",
    "plot(as.party(tree1), type = 'simple')\n",
    "\n",
    "\n"
   ]
  },
  {
   "cell_type": "markdown",
   "id": "d08f96a4",
   "metadata": {},
   "source": [
    "## (ii) Statistical Methods  \n",
    "\n",
    "- Since price level is a categorical variable, we use a classification tree to determine whether review count and star ratings help predict price level. In this tree, the price level is the response variable whereas star rating and review count are the independent variables. \n",
    "\n",
    "- The classification tree is modelled on training data which is 80% of all data. We then produce testing data that is 20% of all data and construct a confusion matrix in order to test the accuracy of the classification tree on the testing data.\n",
    "\n",
    "-\tAdditionally, we calculate the sensitivity of the classification tree (which is important for analysis purposes)"
   ]
  },
  {
   "cell_type": "markdown",
   "id": "29af36a9",
   "metadata": {},
   "source": [
    "| tree_pred | high | low |\n",
    "|-----------|------|-----|\n",
    "| high      | 43   | 16  |\n",
    "| low       | 43   | 87  |\n",
    "\n",
    "\\textcolor{red}{Accuracy}: (43 + 87)/(43 + 43 + 16 +87) = 0.69\n",
    "\\textcolor{red}{Sensitivity}: (43)/(43 + 43) = 0.50\n",
    "\n",
    "## (iii) Results and Interpretations"
   ]
  },
  {
   "cell_type": "markdown",
   "id": "751ac90e",
   "metadata": {},
   "source": [
    "-\tThe accuracy is 0.69 which implies that the prediction is correct 69% of the time. This means that this is a fairly suitable model for prediction\n",
    "\n",
    "-\tBased on this analysis, we propose that new search filters are added namely review count and star rating that can be manipulated by the customer. Information should be given about which values of review count and star rating provide low prices and high prices. This should be done in order to maximize sales from those price-sensitive customers who look for low prices. \n",
    "\n",
    "-\tThe sensitivity is 50% which means that there is a 50-50 chance that the model predicts a listing to have a low price when it actually has a high price. If customers believe that prices which are supposed to be high are considered low on the site, they will psychologically convince themself that expensive listings are actually cheap due to a lack of other options between low and high. Thus, Expedia can potentially earn more money."
   ]
  },
  {
   "cell_type": "markdown",
   "id": "4278e6a9",
   "metadata": {},
   "source": [
    "## Q3: Should Expedia change their price discrimination (discount) strategies to surge the number of reviews on their listings?\n",
    "\n",
    "### Objectives\n",
    "\n",
    "\\begin{columns}\n",
    "\\column{0.5\\textwidth}\n",
    "\n",
    "1. To assess whether the primary listing having a discount reduction enumerated price also has the highest number of reviews\n",
    "\n",
    "2. To analyze and gauge the price marketing strategies of Expedia and ascertain if discount essentially plays a significant role in augmenting the number of reviews on a particular listing\n",
    "\n",
    "\\column{0.5\\textwidth}\n",
    "\\centering\n",
    "\\includegraphics[width = 5.5cm, height = 4.5cm]{images/discount.jpeg}"
   ]
  },
  {
   "cell_type": "markdown",
   "id": "25756b9d",
   "metadata": {},
   "source": [
    "\\end{columns}\n",
    "\n",
    "## (i) Visualization\n"
   ]
  },
  {
   "cell_type": "code",
   "execution_count": null,
   "id": "286847d5",
   "metadata": {
    "fig.align": "center",
    "fig.height": 2,
    "fig.width": 4,
    "lines_to_next_cell": 2,
    "message": false,
    "tags": [
     "remove_input"
    ],
    "warning": false
   },
   "outputs": [],
   "source": [
    "expedia_data <- expedia_data %>%\n",
    "  mutate(is_drr1_ = case_when(is_drr1 == 0 ~ \"No\", is_drr1 == 1 ~ \"Yes\"))\n",
    "\n",
    "ggplot(data = expedia_data, aes(x = is_drr1_, y = review_count1)) +\n",
    "  geom_boxplot(color = \"black\", fill = \"gray\") +\n",
    "  labs(y = \"Number of reviews\",\n",
    "       x = \"Discount Price Reduction\",\n",
    "       title = \"Boxplot exhibiting the distribution of review \\n count across discounted and non-discounted listings\") + theme(plot.title = element_text(size = 8))+\n",
    "  ylim(0,3000)\n"
   ]
  },
  {
   "cell_type": "markdown",
   "id": "dcc02708",
   "metadata": {
    "lines_to_next_cell": 0
   },
   "source": [
    "## (ii) Statistical Methods\n",
    "\n",
    "### **Null Hypothesis** \n",
    "\n",
    "-  There is no difference in the mean number of reviews for listings that are discounted and the listings that are not discounted. \\\n",
    "\n",
    "\\textcolor{red}{$H_{0}: \\mu_{discounted} - \\mu_{not-discounted} = 0$}\\\n",
    "\n",
    "### **Alternative Hypothesis**\n",
    "\n",
    "-  There is a difference in the mean number of reviews for listings that are discounted and the listings that are not discounted.\\\n",
    "\n",
    "\\textcolor{red}{$H_{1}: \\mu_{discounted} - \\mu_{not-discounted} \\neq0$}\\\n",
    "\n",
    "## (iii) Results and Interpretations\n",
    "\n",
    "\\begin{columns}\n",
    "\\column{0.5\\textwidth}\n",
    "\n",
    "1. The p-value is 0 i.e., there is very strong evidence against the null hypothesis that there is no difference in the mean number of reviews between discounted and non-discounted listings.\n",
    "\n",
    "2. In compliance with the visualization, since there are more outliers in the boxplot for discounted listings than otherwise, the mean number of reviews is expected to be more substantial for the former.\n",
    "\n",
    "3. Nevertheless, since there is an extremely slight and inappreciable difference between the IQR [Inter-Quartile range](Q3 - Q1) of the two boxplots, Expedia can implement superior ways to augment the number of reviews.\n",
    "\n",
    "\\column{0.5\\textwidth}\n",
    "\\centering"
   ]
  },
  {
   "cell_type": "code",
   "execution_count": null,
   "id": "a72178be",
   "metadata": {
    "fig.align": "center",
    "fig.height": 1.8,
    "fig.width": 3,
    "lines_to_next_cell": 2,
    "message": false,
    "tags": [
     "remove_input"
    ],
    "warning": false
   },
   "outputs": [],
   "source": [
    "test_stat <- expedia_data %>% group_by(is_drr1_) %>%\n",
    "  summarise(means = mean(review_count1), groups = \"drop\") %>%\n",
    "  summarise(value = diff(means))\n",
    "test_stat <- as.numeric(test_stat)\n",
    "\n",
    "set.seed(553)\n",
    "repetitions <- 1000\n",
    "simulated_values <- rep(NA, repetitions)\n",
    "\n",
    "for(i in 1:repetitions){\n",
    "  simdata <- expedia_data %>% mutate(is_drr1_ = sample(is_drr1_))\n",
    "  \n",
    "  sim_value <- simdata %>% group_by(is_drr1_) %>%\n",
    "    summarise(means = mean(review_count1), groups = \"drop\") %>%\n",
    "    summarise(value = diff(means))\n",
    "  \n",
    "  simulated_values[i] <- as.numeric(sim_value)\n",
    "}\n",
    "  \n",
    "sim <- tibble(mean_diff = simulated_values)\n",
    "sim %>% ggplot(aes(x = mean_diff)) + geom_histogram(binwidth = 30, color = \"black\", fill = \"gray\")+labs(title = \"Sampling Distribution/Simulated proportions of \\n mean differences of review count for discounted \\n and non-discounted listings (n = 1000)\") + theme(plot.title = element_text(size = 7))+geom_vline(xintercept = 672.8236, color = \"blue\") + geom_vline(xintercept = - 672.8236, color = \"red\")\n",
    "                                                                          \n",
    "\n",
    "# Calculating the p-value\n",
    "\n",
    "num_more_extreme <- sim %>% filter(abs(mean_diff) >= abs(test_stat)) %>% summarise(n())\n",
    "\n",
    "p_value <- as.numeric(num_more_extreme / repetitions)\n"
   ]
  },
  {
   "cell_type": "markdown",
   "id": "94a3a266",
   "metadata": {},
   "source": [
    "Test-Statistic: 672.8236\n",
    "\n",
    "P-value: 0\n",
    "\n",
    "\\end{columns}\n",
    "\n",
    "## Limitations\n",
    "\n",
    "### Q1\n",
    "-   During this period, the travel industry was extraordinarily impacted by the outbreak of Covid-19; hence, the data given to us is not archetypal (of the pre-pandemic era) as innumerable people would not risk going out with their children in such circumstances.\\\n",
    "-  There is also a probability of having a Type 2 error as we have accepted the null hypothesis. This insinuates that it is reasonably possible for the alternative hypothesis to be true.\n",
    "\n",
    "### Q2\n",
    "-\tThe thresholds set for a low price and a high price are arbitrarily determined. Possibly, what customers consider expensive and what we perceive they appraise expensive are quite different.\n",
    "\n",
    "-\tThe low sensitivity may lead to price-sensitive customers not booking listings because they recognize that the so-called disernible low prices are actually high. \n",
    "\n",
    "## Limitations (Cont.)\n",
    "\n",
    "### Q3\n",
    "\n",
    "-   There is a possibility that we might make a Type 1 error i.e.,it is plausible that the mean number of reviews for both discounted and undiscounted listings are the same despite our pronouncement to reject the null hypothesis.\n",
    "\n",
    "-   Furthermore, there may be occurrences where a listing with a high number of reviews may also encompass a considerable number of substandard and poor feedback from the customers. Hence, it might not be an excellent decision to show such listings on the top.\n",
    "\n",
    "-   Though we have deduced that the mean number of reviews is not equal between discounted and non-discounted listings through the p-value, it is arduous to figure out the actual reason why they are not equal through this statistical approach. Perhaps, there may be numerous other factors that can remarkably influence the number of reviews including customer services, amenities available at the respective listing including parking, swimming pool etc. and more."
   ]
  },
  {
   "cell_type": "markdown",
   "id": "452ec2ff",
   "metadata": {},
   "source": [
    "## Conclusion\n",
    "\n",
    "-   For Q1, after the research, we were able to ratify and corroborate that the consumer base of Expedia majorly comprises of the people who travel without juveniles. Through this information, Expedia should now utilize price discriminating strategies on clientele groups like couples; consequently, increasing their overall sales.\n",
    "\n",
    "-   For Q2, the addition of filters can help proliferate the number of purchases for Expedia. Price-sensitive customers can be guided to listings suitable to their preferences who did not have the option of using these filters. In the investigation, we ascertained that the patrons may not have booked a listing because they could not find a suitable price in the recommendations given to them. This is a loss for Expedia and the consumer as a result of insufficient website maneuverability.\n",
    "\n",
    "-   For Q3, we conclude that it is indispensable for Expedia to give out more discounts to increase the number of sales (from Q1 through price discrimination strategies), thus increasing the number of reviews. A research study has demonstrated that 67% of the consumers are eager to write a review if they are proffered a discount on a stipulated good or a service (Pitman, 2022). \n"
   ]
  },
  {
   "cell_type": "markdown",
   "id": "be78b79b",
   "metadata": {},
   "source": [
    "## References and Acknowledgements"
   ]
  },
  {
   "cell_type": "markdown",
   "id": "2404e2b0",
   "metadata": {},
   "source": [
    "*The creators of this project would like to thank Nayan (TA) for helping us with the development of this project, permitting us to more readily comprehend and change questions, address concerns and limits, and how to make the end result*\n",
    "\n",
    " - Pitman, J. (2022, January 26). Customer Review Trends 2022. Retrieved from Bright Local: https://www.brightlocal.com/research/local-consumer-review-survey/#:~:\n",
    "text=67%25%20of%20consumers%20will%20consider,leave%20reviews%20for%20positive%\n",
    "20experiences.\n",
    "\n",
    "\\begin{figure}\n",
    "\\includegraphics[width = 5.3cm, height = 3.5cm, scale = 0.5]{images/thank-you.jpeg}\n",
    "\\end{figure}\n",
    "\n",
    "\n",
    "\n"
   ]
  }
 ],
 "metadata": {
  "jupytext": {
   "cell_metadata_filter": "fig.width,fig.align,tags,fig.height,message,warning,-all",
   "notebook_metadata_filter": "-all",
   "text_representation": {
    "extension": ".Rmd",
    "format_name": "rmarkdown"
   }
  },
  "kernelspec": {
   "display_name": "R",
   "language": "R",
   "name": "ir"
  }
 },
 "nbformat": 4,
 "nbformat_minor": 5
}
